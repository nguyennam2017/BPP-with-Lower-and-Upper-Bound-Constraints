{
 "cells": [
  {
   "cell_type": "markdown",
   "metadata": {},
   "source": [
    "# Thử với bỏ qua ràng buộc có thể không dùng hết xe"
   ]
  },
  {
   "cell_type": "code",
   "execution_count": 134,
   "metadata": {},
   "outputs": [],
   "source": [
    "import numpy as np\n",
    "import random"
   ]
  },
  {
   "cell_type": "code",
   "execution_count": 135,
   "metadata": {},
   "outputs": [
    {
     "data": {
      "text/plain": [
       "'\\n10 3\\n82 15\\n4 95\\n36 32\\n29 18\\n95 14\\n87 95\\n70 12\\n76 55\\n5 4\\n12 28\\n11 15\\n14 14\\n14 14\\n'"
      ]
     },
     "execution_count": 135,
     "metadata": {},
     "output_type": "execute_result"
    }
   ],
   "source": [
    "num_orders = 10\n",
    "num_trucks = 3\n",
    "d = [82,4,36,29,95,87,70,76,5,12]\n",
    "c = [15,95,32,18,14,95,12,55,4,28]\n",
    "c1 = [11,14,14]\n",
    "c2 = [15,14,14]\n",
    "'''\n",
    "10 3\n",
    "82 15\n",
    "4 95\n",
    "36 32\n",
    "29 18\n",
    "95 14\n",
    "87 95\n",
    "70 12\n",
    "76 55\n",
    "5 4\n",
    "12 28\n",
    "11 15\n",
    "14 14\n",
    "14 14\n",
    "'''"
   ]
  },
  {
   "cell_type": "markdown",
   "metadata": {},
   "source": [
    "## Hàm thích nghi"
   ]
  },
  {
   "cell_type": "code",
   "execution_count": 136,
   "metadata": {},
   "outputs": [],
   "source": [
    "def fitness(individual):\n",
    "    quantity = [0] * num_trucks\n",
    "    cost = [0] * num_trucks\n",
    "    for i in range(num_orders):\n",
    "        quantity[individual[i]] += d[i]\n",
    "        cost[individual[i]] += c[i]\n",
    "\n",
    "    reward = 0\n",
    "    penalty = 0\n",
    "\n",
    "    for i in range(num_trucks):\n",
    "        if c1[i] <= quantity[i] <= c2[i]:\n",
    "            reward += quantity[i]\n",
    "        elif quantity[i] < c1[i]:\n",
    "            penalty += (c1[i] - quantity[i]) ** 2\n",
    "        else:\n",
    "            penalty += (quantity[i] - c2[i]) ** 2 *2\n",
    "    \n",
    "    return reward - penalty\n",
    "        "
   ]
  },
  {
   "cell_type": "markdown",
   "metadata": {},
   "source": [
    "## Khởi tạo quần thể"
   ]
  },
  {
   "cell_type": "code",
   "execution_count": 137,
   "metadata": {},
   "outputs": [],
   "source": [
    "def random_generate_populations(pop_size):\n",
    "    population = []\n",
    "    for _ in range(pop_size):\n",
    "        individual = [random.randint(0, num_trucks - 1) for _ in range(num_orders)]\n",
    "        population.append(individual)\n",
    "    return population\n"
   ]
  },
  {
   "cell_type": "code",
   "execution_count": 138,
   "metadata": {},
   "outputs": [],
   "source": [
    "def greedy_generate_populations(pop_size):\n",
    "    population = []\n",
    "    for _ in range(pop_size):\n",
    "        individual = [-1] * num_orders\n",
    "        truck_capacity = [0] * num_trucks  # Tổng trọng lượng mỗi xe\n",
    "\n",
    "        for i in range(num_orders):\n",
    "            available_trucks = [j for j in range(num_trucks) if truck_capacity[j] + d[i] <= c2[j]]\n",
    "            if available_trucks:\n",
    "                chosen_truck = min(available_trucks, key=lambda j: truck_capacity[j])  # Chọn xe có tải nhẹ nhất\n",
    "                individual[i] = chosen_truck\n",
    "                truck_capacity[chosen_truck] += d[i]\n",
    "            else:\n",
    "                individual[i] = random.randint(0, num_trucks - 1)  # Nếu không có xe hợp lệ, gán ngẫu nhiên\n",
    "\n",
    "        population.append(individual)\n",
    "    return population\n"
   ]
  },
  {
   "cell_type": "code",
   "execution_count": 139,
   "metadata": {},
   "outputs": [],
   "source": [
    "def hybrid_generation_populations(pop_size,greedy_ratio=0.3):\n",
    "    greedy_size = int(pop_size * greedy_ratio)\n",
    "    random_size = pop_size - greedy_size\n",
    "\n",
    "    population = greedy_generate_populations(greedy_size)\n",
    "    population = population + random_generate_populations(random_size)\n",
    "\n",
    "    return population\n"
   ]
  },
  {
   "cell_type": "markdown",
   "metadata": {},
   "source": [
    "## Chọn cha mẹ"
   ]
  },
  {
   "cell_type": "code",
   "execution_count": 140,
   "metadata": {},
   "outputs": [],
   "source": [
    "def random_selection(population, fitnesses):\n",
    "    return random.choice(population)"
   ]
  },
  {
   "cell_type": "code",
   "execution_count": 141,
   "metadata": {},
   "outputs": [],
   "source": [
    "def tournament_selection(population, k=5):\n",
    "    selected = random.sample(population, k)\n",
    "    selected.sort(key=lambda x: fitness(x), reverse=True)\n",
    "    return selected[0]"
   ]
  },
  {
   "cell_type": "code",
   "execution_count": 142,
   "metadata": {},
   "outputs": [],
   "source": [
    "def roulette_wheel_selection(population):\n",
    "    fitness_values = np.array([fitness(individual) for individual in population])\n",
    "\n",
    "    # Áp dụng hàm softmax\n",
    "    exp_fitness = np.exp(fitness_values - np.max(fitness_values))  # Trừ max để tránh tràn số\n",
    "    probabilities = exp_fitness / np.sum(exp_fitness)\n",
    "    \n",
    "    return population[np.random.choice(len(population), p=probabilities)]"
   ]
  },
  {
   "cell_type": "code",
   "execution_count": 143,
   "metadata": {},
   "outputs": [],
   "source": [
    "def rank_selection(population):\n",
    "    ranked = sorted(population, key=lambda x: fitness(x), reverse=True)\n",
    "    ranks = [i+1 for i in range(len(ranked))]\n",
    "    total_ranks = sum(ranks)\n",
    "    probabilities = [r/total_ranks for r in ranks]\n",
    "    return ranked[np.random.choice(len(ranked), p=probabilities)]\n"
   ]
  },
  {
   "cell_type": "markdown",
   "metadata": {},
   "source": [
    "## Lai tạo"
   ]
  },
  {
   "cell_type": "code",
   "execution_count": 144,
   "metadata": {},
   "outputs": [],
   "source": [
    "def one_point_crossover(parent1, parent2):\n",
    "    point  = random.randint(1, num_orders - 1)\n",
    "    child1 = parent1[:point] + parent2[point:]\n",
    "    child2 = parent2[:point] + parent1[point:]\n",
    "    return child1, child2"
   ]
  },
  {
   "cell_type": "code",
   "execution_count": 145,
   "metadata": {},
   "outputs": [],
   "source": [
    "def two_point_crossover(parent1, parent2):\n",
    "    point1, point2 = sorted(random.sample(range(len(parent1)), 2))\n",
    "    child1 = parent1[:point1] + parent2[point1:point2] + parent1[point2:]\n",
    "    child2 = parent2[:point1] + parent1[point1:point2] + parent2[point2:]\n",
    "    return child1, child2\n"
   ]
  },
  {
   "cell_type": "code",
   "execution_count": 146,
   "metadata": {},
   "outputs": [],
   "source": [
    "def uniform_crossover(parent1, parent2):\n",
    "    child1, child2 = [], []\n",
    "    for i in range(num_orders):\n",
    "        if random.random() < 0.5:\n",
    "            child1.append(parent1[i])\n",
    "            child2.append(parent2[i])\n",
    "        else:\n",
    "            child1.append(parent2[i])\n",
    "            child2.append(parent1[i])\n",
    "    return child1, child2"
   ]
  },
  {
   "cell_type": "markdown",
   "metadata": {},
   "source": [
    "## Đột biến"
   ]
  },
  {
   "cell_type": "code",
   "execution_count": 147,
   "metadata": {},
   "outputs": [],
   "source": [
    "def random_resetting_mutate(individual, mutate_rate=0.):\n",
    "    if random.random() < mutate_rate:\n",
    "        i = random.randint(0, num_orders - 1)\n",
    "        individual[i] = random.randint(0, num_trucks - 1)\n",
    "    return individual"
   ]
  },
  {
   "cell_type": "code",
   "execution_count": 148,
   "metadata": {},
   "outputs": [],
   "source": [
    "def scramble_mutate(individual, mutate_rate=0.1):\n",
    "    start, end = sorted(random.sample(range(len(individual)), 2))\n",
    "    subset = individual[start:end]\n",
    "    random.shuffle(subset)\n",
    "    individual[start:end] = subset\n",
    "    return individual"
   ]
  },
  {
   "cell_type": "code",
   "execution_count": 149,
   "metadata": {},
   "outputs": [],
   "source": [
    "def inversion_mutate(individual, mutate_rate=0.1):\n",
    "    start, end =sorted(random.sample(range(len(individual)), 2))\n",
    "    individual[start:end] = individual[start:end][:: -1]\n",
    "    return individual"
   ]
  },
  {
   "cell_type": "code",
   "execution_count": 150,
   "metadata": {},
   "outputs": [],
   "source": [
    "def swap_mutate(individual, mutate_rate = 0.1):\n",
    "    if random.random() < mutate_rate:\n",
    "        i, j = random.sample(range(num_orders), 2)\n",
    "        individual[i], individual[j] = individual[j], individual[i]\n",
    "    return individual"
   ]
  },
  {
   "cell_type": "code",
   "execution_count": 151,
   "metadata": {},
   "outputs": [],
   "source": [
    "class GA_BPP:\n",
    "    def __init__(self, fitness=fitness, initialization=hybrid_generation_populations, selection=tournament_selection, crossover=two_point_crossover, mutate=scramble_mutate):\n",
    "        self.fitness = fitness\n",
    "        self.initialization = initialization\n",
    "        self.selection = selection\n",
    "        self.crossover = crossover\n",
    "        self.mutate = mutate\n",
    "    \n",
    "    def generate_algorithm(self, pop_size=100, num_generations=100,mutate_rate=0.1):\n",
    "        population = self.initialization(pop_size)\n",
    "        for _ in range(num_generations):\n",
    "            next_population = []\n",
    "            for _ in range(pop_size //2):\n",
    "                parent1 = self.selection(population)\n",
    "                parent2 = self.selection(population)\n",
    "                child1, child2 = self.crossover(parent1, parent2)\n",
    "                child1 = self.mutate(child1, mutate_rate)\n",
    "                child2 = self.mutate(child2, mutate_rate)\n",
    "                next_population.extend([child1, child2])\n",
    "            population = next_population + population\n",
    "            population.sort(key=lambda x: self.fitness(x), reverse=True)\n",
    "            population = population[:pop_size]\n",
    "\n",
    "        result = max(population, key=self.fitness)\n",
    "\n",
    "        return result, self.fitness(result)"
   ]
  },
  {
   "cell_type": "code",
   "execution_count": 152,
   "metadata": {},
   "outputs": [],
   "source": [
    "model = GA_BPP()\n",
    "solution, solution_value = model.generate_algorithm()"
   ]
  },
  {
   "cell_type": "code",
   "execution_count": 153,
   "metadata": {},
   "outputs": [],
   "source": [
    "model_test = GA_BPP(selection=roulette_wheel_selection, crossover=uniform_crossover, mutate=inversion_mutate)\n",
    "solution_test, solution_value_test = model_test.generate_algorithm()"
   ]
  },
  {
   "cell_type": "code",
   "execution_count": 154,
   "metadata": {},
   "outputs": [
    {
     "name": "stdout",
     "output_type": "stream",
     "text": [
      "Best solution test: [1, 3, 1, 1, 2, 3, 3, 2, 3, 1]\n",
      "Best solution value test: -136978\n"
     ]
    }
   ],
   "source": [
    "solution_test = [i+1 for i in solution_test]\n",
    "print(f'Best solution test: {solution_test}')\n",
    "print(f'Best solution value test: {solution_value_test}')"
   ]
  },
  {
   "cell_type": "code",
   "execution_count": 155,
   "metadata": {},
   "outputs": [
    {
     "name": "stdout",
     "output_type": "stream",
     "text": [
      "Best solution: [2, 2, 3, 3, 1, 3, 1, 2, 2, 3]\n",
      "Best solution value: -136818\n"
     ]
    }
   ],
   "source": [
    "solution = [i+1 for i in solution]\n",
    "print(f'Best solution: {solution}')\n",
    "print(f'Best solution value: {solution_value}')"
   ]
  }
 ],
 "metadata": {
  "kernelspec": {
   "display_name": ".venv",
   "language": "python",
   "name": "python3"
  },
  "language_info": {
   "codemirror_mode": {
    "name": "ipython",
    "version": 3
   },
   "file_extension": ".py",
   "mimetype": "text/x-python",
   "name": "python",
   "nbconvert_exporter": "python",
   "pygments_lexer": "ipython3",
   "version": "3.10.0"
  }
 },
 "nbformat": 4,
 "nbformat_minor": 2
}
